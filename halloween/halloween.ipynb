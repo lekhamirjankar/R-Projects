{
 "cells": [
  {
   "cell_type": "markdown",
   "metadata": {
    "dc": {
     "key": "4"
    },
    "deletable": false,
    "editable": false,
    "run_control": {
     "frozen": true
    },
    "tags": [
     "context"
    ]
   },
   "source": [
    "## 1. Importing packages and data\n",
    "<p><img src=\"https://assets.datacamp.com/production/project_458/img/candy.jpg\" alt=\"Bowl of halloween candy\"></p>\n",
    "<p>Every year around Halloween it seems like everyone has candy on the brain! There's a great dataset from <a href=\"https://fivethirtyeight.com/\">FiveThirtyEight</a> that includes all sorts of different information about different kinds of candy. For example, is a candy chocolaty? Does it have nougat? How does its cost compare to other candies? How many people prefer one candy over another?</p>\n",
    "<p>We'll take a whirlwind tour of this dataset and wrap up by trying linear and logistic regression techniques out on it!</p>\n",
    "<p>First things first, let's get our packages and data loaded up and inspect the data to see exactly what we're dealing with.</p>"
   ]
  },
  {
   "cell_type": "code",
   "execution_count": 47,
   "metadata": {
    "dc": {
     "key": "4"
    },
    "tags": [
     "sample_code"
    ]
   },
   "outputs": [
    {
     "name": "stdout",
     "output_type": "stream",
     "text": [
      "Rows: 85\n",
      "Columns: 13\n",
      "$ competitorname   \u001b[3m\u001b[90m<chr>\u001b[39m\u001b[23m \"100 Grand\", \"3 Musketeers\", \"One dime\", \"One quarter…\n",
      "$ chocolate        \u001b[3m\u001b[90m<lgl>\u001b[39m\u001b[23m TRUE, TRUE, FALSE, FALSE, FALSE, TRUE, TRUE, FALSE, F…\n",
      "$ fruity           \u001b[3m\u001b[90m<lgl>\u001b[39m\u001b[23m FALSE, FALSE, FALSE, FALSE, TRUE, FALSE, FALSE, FALSE…\n",
      "$ caramel          \u001b[3m\u001b[90m<lgl>\u001b[39m\u001b[23m TRUE, FALSE, FALSE, FALSE, FALSE, FALSE, TRUE, FALSE,…\n",
      "$ peanutyalmondy   \u001b[3m\u001b[90m<lgl>\u001b[39m\u001b[23m FALSE, FALSE, FALSE, FALSE, FALSE, TRUE, TRUE, TRUE, …\n",
      "$ nougat           \u001b[3m\u001b[90m<lgl>\u001b[39m\u001b[23m FALSE, TRUE, FALSE, FALSE, FALSE, FALSE, TRUE, FALSE,…\n",
      "$ crispedricewafer \u001b[3m\u001b[90m<lgl>\u001b[39m\u001b[23m TRUE, FALSE, FALSE, FALSE, FALSE, FALSE, FALSE, FALSE…\n",
      "$ hard             \u001b[3m\u001b[90m<lgl>\u001b[39m\u001b[23m FALSE, FALSE, FALSE, FALSE, FALSE, FALSE, FALSE, FALS…\n",
      "$ bar              \u001b[3m\u001b[90m<lgl>\u001b[39m\u001b[23m TRUE, TRUE, FALSE, FALSE, FALSE, TRUE, TRUE, FALSE, F…\n",
      "$ pluribus         \u001b[3m\u001b[90m<lgl>\u001b[39m\u001b[23m FALSE, FALSE, FALSE, FALSE, FALSE, FALSE, FALSE, TRUE…\n",
      "$ sugarpercent     \u001b[3m\u001b[90m<dbl>\u001b[39m\u001b[23m 0.732, 0.604, 0.011, 0.011, 0.906, 0.465, 0.604, 0.31…\n",
      "$ pricepercent     \u001b[3m\u001b[90m<dbl>\u001b[39m\u001b[23m 0.860, 0.511, 0.116, 0.511, 0.511, 0.767, 0.767, 0.51…\n",
      "$ winpercent       \u001b[3m\u001b[90m<dbl>\u001b[39m\u001b[23m 66.97173, 67.60294, 32.26109, 46.11650, 52.34146, 50.…\n"
     ]
    }
   ],
   "source": [
    "# # Load all the packages\n",
    "# # .... YOUR CODE FOR TASK 1 ....\n",
    "# library(dplyr)\n",
    "# library(tidyr)\n",
    "# library(ggplot2)\n",
    "# library(broom)\n",
    "# library(corrplot)\n",
    "# library(fivethirtyeight)\n",
    "\n",
    "# # Load the candy_rankings dataset from the fivethirtyeight package\n",
    "# data(candy_rankings)\n",
    "\n",
    "# # Take a glimpse() at the dataset\n",
    "# # .... YOUR CODE FOR TASK 1 ....\n",
    "# glimpse(candy_rankings)\n",
    "# # head(candy_rankings)\n",
    "\n",
    "# Load all the packages we need\n",
    "library(dplyr)\n",
    "library(tidyr)\n",
    "library(ggplot2)\n",
    "library(broom)\n",
    "library(corrplot)\n",
    "library(fivethirtyeight)\n",
    "\n",
    "# Load the candy_rankings dataset from the fivethirtyeight package\n",
    "data(candy_rankings)\n",
    "\n",
    "# Take a glimpse() at the dataset\n",
    "glimpse(candy_rankings)"
   ]
  },
  {
   "cell_type": "markdown",
   "metadata": {
    "dc": {
     "key": "11"
    },
    "deletable": false,
    "editable": false,
    "run_control": {
     "frozen": true
    },
    "tags": [
     "context"
    ]
   },
   "source": [
    "## 2. Explore the distributions of categorical variables\n",
    "<p>Let's get started by looking at the distributions of each binary categorical variable. There are quite a few of them - we'll have to do some data wrangling to get them in shape for plotting. </p>\n",
    "<p>We can get a sense of the proportion of <code>TRUE</code>s and <code>FALSE</code>s in each column by using the <code>gather()</code> function to get the dataset to look like this:</p>\n",
    "<pre><code>  competitorname sugarpercent pricepercent winpercent feature   value\n",
    "  &lt;chr&gt;                 &lt;dbl&gt;        &lt;dbl&gt;      &lt;dbl&gt; &lt;chr&gt;     &lt;lgl&gt;\n",
    "1 100 Grand             0.732        0.860       67.0 chocolate TRUE \n",
    "2 3 Musketeers          0.604        0.511       67.6 chocolate TRUE \n",
    "3 One dime              0.011        0.116       32.3 chocolate FALSE\n",
    "</code></pre>\n",
    "<p>Then we can make a bar chart showing the number of <code>TRUE</code>s and <code>FALSE</code>s for each type of candy (<code>feature</code>).</p>\n",
    "<p>Note: Development on <code>gather()</code> is complete, but it is still taught in several DataCamp courses. We will continue to use it here.</p>"
   ]
  },
  {
   "cell_type": "code",
   "execution_count": 48,
   "metadata": {
    "dc": {
     "key": "11"
    },
    "tags": [
     "sample_code"
    ]
   },
   "outputs": [
    {
     "data": {
      "image/png": "[encoded data removed]",
      "text/plain": [
       "plot without title"
      ]
     },
     "metadata": {
      "image/png": {
       "height": 420,
       "width": 420
      }
     },
     "output_type": "display_data"
    }
   ],
   "source": [
    "# Gather the categorical variables to make them easier to plot\n",
    "candy_rankings_long <- gather(\n",
    "  candy_rankings,\n",
    "  key = \"feature\",\n",
    "  value = \"value\",\n",
    "  chocolate:pluribus\n",
    "#   na.rm = FALSE,\n",
    "#   convert = FALSE,\n",
    "#   factor_key = FALSE\n",
    ")\n",
    "\n",
    "# print(candy_rankings_long)\n",
    "# Make a bar plot showing the distribution of each variable\n",
    "# .... YOUR CODE FOR TASK 2 ....\n",
    "\n",
    "ggplot(candy_rankings_long, aes(value)) + geom_bar() + facet_wrap(~feature)\n"
   ]
  },
  {
   "cell_type": "markdown",
   "metadata": {
    "dc": {
     "key": "18"
    },
    "deletable": false,
    "editable": false,
    "run_control": {
     "frozen": true
    },
    "tags": [
     "context"
    ]
   },
   "source": [
    "## 3. Taking a look at pricepercent\n",
    "<p>Next, we'll look at the <code>pricepercent</code> variable. This variable records the percentile rank of the candy's price against all the other candies in the dataset. Let's see which is the most expensive and which is the least expensive by making a lollipop chart. One of the most interesting aspects of this chart is that a lot of the candies share the same ranking, so it looks like quite a few of them are the same price.</p>"
   ]
  },
  {
   "cell_type": "code",
   "execution_count": 49,
   "metadata": {
    "dc": {
     "key": "18"
    },
    "tags": [
     "sample_code"
    ]
   },
   "outputs": [
    {
     "data": {
      "image/png": "[encoded data removed]",
      "text/plain": [
       "plot without title"
      ]
     },
     "metadata": {
      "image/png": {
       "height": 420,
       "width": 420
      }
     },
     "output_type": "display_data"
    }
   ],
   "source": [
    "# Make a lollipop chart of pricepercent\n",
    "# .... YOUR CODE FOR TASK 3 ....\n",
    "ggplot(candy_rankings, aes(reorder(competitorname, pricepercent), pricepercent)) + \n",
    "geom_segment(aes(xend=reorder(competitorname, pricepercent),yend=0)) +\n",
    "# geom_point( size=0.1, color=\"red\", fill=alpha(\"orange\", 0.1), alpha=0.7, shape=21, stroke=2) \n",
    "geom_point() + coord_flip() "
   ]
  },
  {
   "cell_type": "code",
   "execution_count": 50,
   "metadata": {
    "dc": {
     "key": "18"
    },
    "hide": true,
    "tags": [
     "tests"
    ]
   },
   "outputs": [
    {
     "ename": "ERROR",
     "evalue": "Error in run_tests({: could not find function \"run_tests\"\n",
     "output_type": "error",
     "traceback": [
      "Error in run_tests({: could not find function \"run_tests\"\nTraceback:\n"
     ]
    }
   ],
   "source": [
    "p <- last_plot()\n",
    "\n",
    "run_tests({\n",
    "    test_that(\"The plot is correct\", {\n",
    "        expect_equal(p$data, candy_rankings,\n",
    "                    info = \"Make sure you passed candy_rankings as the data argument to ggplot().\")\n",
    "        expect_equal(p$mapping, aes(reorder(competitorname, pricepercent), pricepercent),\n",
    "                    info = \"Did you pass the right aesthetics to aes() Make sure to reorder competitorname.\")\n",
    "        expect_equal(p$layers, list(geom_segment(aes(xend = reorder(competitorname, pricepercent), yend = 0)), geom_point()),\n",
    "                    info = \"The aesthetics in geom_segment() are not correct. Was xend= reordered correctly?\")\n",
    "        expect_equal(p$coordinates, coord_flip(),\n",
    "                    info = \"Did you flip the plot with coord_flip()?\")\n",
    "    })\n",
    "})"
   ]
  },
  {
   "cell_type": "markdown",
   "metadata": {
    "dc": {
     "key": "25"
    },
    "deletable": false,
    "editable": false,
    "run_control": {
     "frozen": true
    },
    "tags": [
     "context"
    ]
   },
   "source": [
    "## 4. Exploring winpercent (part i)\n",
    "<p>Moving on, we'll take a look at another numerical variable in the dataset: <code>winpercent</code>. This variable is the percentage of people who prefer this candy over another randomly chosen candy from the dataset. </p>\n",
    "<p>We'll start with a histogram! The distribution of rankings looks symmetrical and seems to center on about 45%! </p>"
   ]
  },
  {
   "cell_type": "code",
   "execution_count": null,
   "metadata": {
    "dc": {
     "key": "25"
    },
    "tags": [
     "sample_code"
    ]
   },
   "outputs": [],
   "source": [
    "# Plot a histogram of winpercent\n",
    "# .... YOUR CODE FOR TASK 4 ....\n",
    "ggplot(candy_rankings, aes(winpercent)) + geom_histogram()"
   ]
  },
  {
   "cell_type": "code",
   "execution_count": null,
   "metadata": {
    "dc": {
     "key": "25"
    },
    "hide": true,
    "tags": [
     "tests"
    ]
   },
   "outputs": [],
   "source": [
    "p <- last_plot()\n",
    "\n",
    "run_tests({\n",
    "    test_that(\"The histogram is plotted correctly.\",{\n",
    "        expect_equal(p$data, candy_rankings,\n",
    "                    info = \"Make sure you used candy_rankings as the data argument in your ggplot().\")\n",
    "        expect_equal(p$mapping, aes(winpercent),\n",
    "                    info = \"Make sure you assigned winpercent to the x aesthetic.\")\n",
    "        expect_equal(p$layers, list(geom_histogram()),\n",
    "                    info = \"Make sure you used geom_histogram() to make your plot.\")\n",
    "    })\n",
    "})"
   ]
  },
  {
   "cell_type": "markdown",
   "metadata": {
    "dc": {
     "key": "32"
    },
    "deletable": false,
    "editable": false,
    "run_control": {
     "frozen": true
    },
    "tags": [
     "context"
    ]
   },
   "source": [
    "## 5. Exploring winpercent (part ii)\n",
    "<p>Now that we've looked at the histogram, let's make another lollipop chart to visualize the rankings. It looks like Reese's Peanut Butter Cups are the all time favorite out of this set of candies!</p>"
   ]
  },
  {
   "cell_type": "code",
   "execution_count": null,
   "metadata": {
    "dc": {
     "key": "32"
    },
    "tags": [
     "sample_code"
    ]
   },
   "outputs": [],
   "source": [
    "# Make a lollipop chart of winpercent\n",
    "# .... YOUR CODE FOR TASK 5 ....\n",
    "# ggplot(candy_rankings, aes(reorder(competitorname, winpercent), winpercent)) + \n",
    "# geom_segment(aes(xend=reorder(competitorname, winpercent),yend=0)) +\n",
    "# geom_point( size=0.1, color=\"red\", fill=alpha(\"orange\", 0.1), alpha=0.7, shape=21, stroke=2) + coord_flip() \n",
    "\n",
    "\n",
    "# Plot a histogram of winpercent\n",
    "ggplot(candy_rankings, aes(winpercent)) +\n",
    "  geom_histogram()"
   ]
  },
  {
   "cell_type": "code",
   "execution_count": null,
   "metadata": {
    "dc": {
     "key": "32"
    },
    "hide": true,
    "tags": [
     "tests"
    ]
   },
   "outputs": [],
   "source": [
    "p <- last_plot()\n",
    "\n",
    "run_tests({\n",
    "    test_that(\"The plot is correct\", {\n",
    "        expect_equal(p$data, candy_rankings,\n",
    "                    info = \"Make sure you passed candy_rankings as the data argument to ggplot().\")\n",
    "        expect_equal(p$mapping, aes(reorder(competitorname, winpercent), winpercent),\n",
    "                    info = \"Did you pass the right aesthetics to aes()? Make sure to reorder competitorname.\")\n",
    "        expect_equal(p$layers, list(geom_segment(aes(xend = reorder(competitorname, winpercent), yend = 0)), geom_point()),\n",
    "                    info = \"The aesthetics in geom_segment() are not correct. Was xend= reordered correctly?\")\n",
    "        expect_equal(p$coordinates, coord_flip(),\n",
    "                    info = \"Did you flip the plot with coord_flip()?\")\n",
    "    })\n",
    "    # You can have more than one test\n",
    "})"
   ]
  },
  {
   "cell_type": "markdown",
   "metadata": {
    "dc": {
     "key": "39"
    },
    "deletable": false,
    "editable": false,
    "run_control": {
     "frozen": true
    },
    "tags": [
     "context"
    ]
   },
   "source": [
    "## 6. Exploring the correlation structure\n",
    "<p>Now that we've explored the dataset one variable at a time, we'll see how the variables interact with one another. This is important as we get ready to model the data because it will give us some intuition about which variables might be useful as explanatory variables. </p>\n",
    "<p>We'll use the <code>corrplot</code> package to plot a correlation matrix. Taking a look at this plot, it looks like chocolaty candies are almost never fruity. I can certainly see why that's the case! This also allows us to check for possible <a href=\"https://en.wikipedia.org/wiki/Multicollinearity\">multicollinearity</a>, which can be a problem for regression modeling. It looks like we're good though!</p>"
   ]
  },
  {
   "cell_type": "code",
   "execution_count": null,
   "metadata": {
    "dc": {
     "key": "39"
    },
    "tags": [
     "sample_code"
    ]
   },
   "outputs": [],
   "source": [
    "# Plot the correlation matrix\n",
    "# .... YOUR CODE FOR TASK 6 ....\n",
    "candy_rankings %>% \n",
    "  select(-competitorname) %>% \n",
    "  cor() %>% \n",
    "  corrplot()"
   ]
  },
  {
   "cell_type": "code",
   "execution_count": null,
   "metadata": {
    "dc": {
     "key": "39"
    },
    "hide": true,
    "tags": [
     "tests"
    ]
   },
   "outputs": [],
   "source": [
    "student_cor <- .Last.value\n",
    "good_cor <- candy_rankings %>%\n",
    "  select(-competitorname) %>% \n",
    "  cor()\n",
    "\n",
    "run_tests({\n",
    "    test_that(\"The correlation matrix is created correctly\", {\n",
    "        expect_equal(student_cor, good_cor,\n",
    "                    info = \"Make sure you calculated the correlation matrix correctly.\")\n",
    "    })\n",
    "})"
   ]
  },
  {
   "cell_type": "markdown",
   "metadata": {
    "dc": {
     "key": "46"
    },
    "deletable": false,
    "editable": false,
    "run_control": {
     "frozen": true
    },
    "tags": [
     "context"
    ]
   },
   "source": [
    "## 7. Fitting a linear model of winpercent\n",
    "<p><img src=\"https://assets.datacamp.com/production/project_458/img/snickers.jpg\" style=\"float: left;margin:5px 20px 5px 1px;max-width: 33%\"></p>\n",
    "<p>Let's dive into the deep end of modeling by creating a linear model of <code>winpercent</code> using all the other variables except <code>competitorname</code>. </p>\n",
    "<p>Because <code>competitorname</code> is a categorical variable with a unique value in every row, it is mathematically impossible to fit a linear model if it is included. Moreover, this variable doesn't add any information that the model could use because the names do not relate to any of the candies' attributes.</p>\n",
    "<p>Let's fit the model! Then we can dive into exploring it. Maybe this will give us an idea of why people tend to prefer one candy over another!</p>"
   ]
  },
  {
   "cell_type": "code",
   "execution_count": null,
   "metadata": {
    "dc": {
     "key": "46"
    },
    "tags": [
     "sample_code"
    ]
   },
   "outputs": [],
   "source": [
    "# Fit a linear model of winpercent explained by all variables \n",
    "# except competitorname\n",
    "win_mod <- lm(winpercent ~ . -competitorname, data = candy_rankings)"
   ]
  },
  {
   "cell_type": "code",
   "execution_count": null,
   "metadata": {
    "dc": {
     "key": "46"
    },
    "hide": true,
    "tags": [
     "tests"
    ]
   },
   "outputs": [],
   "source": [
    "good_mod <- lm(winpercent ~ . -competitorname, data = candy_rankings)\n",
    "\n",
    "run_tests({\n",
    "    test_that(\"The model is correct.\", {\n",
    "        expect_equal(good_mod$fitted.values, win_mod$fitted.values,\n",
    "                        info = \"Make sure you created the model correctly.\")\n",
    "    })\n",
    "})"
   ]
  },
  {
   "cell_type": "markdown",
   "metadata": {
    "dc": {
     "key": "53"
    },
    "deletable": false,
    "editable": false,
    "run_control": {
     "frozen": true
    },
    "tags": [
     "context"
    ]
   },
   "source": [
    "## 8. Evaluating the linear model\n",
    "<p>Let's see how we did! We'll take a look at the results of our linear model and run some basic diagnostics to make sure the output is reliable.</p>\n",
    "<p>Taking a look at the coefficients, we can make some conclusions about the factors that cause people to choose one candy over another. For example, it looks like people who took this survey really like peanut butter! There are a few other significant coefficients. Which ones are these?</p>"
   ]
  },
  {
   "cell_type": "code",
   "execution_count": null,
   "metadata": {
    "dc": {
     "key": "53"
    },
    "tags": [
     "sample_code"
    ]
   },
   "outputs": [],
   "source": [
    "# Take a look at the summary\n",
    "# .... YOUR CODE FOR TASK 8 ....\n",
    "summary(win_mod)\n",
    "\n",
    "# Plot the residuals vs the fitted values\n",
    "# .... YOUR CODE FOR TASK 8 ....\n",
    "ggplot(augment(win_mod), aes(.fitted, .resid)) + \n",
    "  geom_point() + \n",
    "  geom_hline(yintercept = 0)"
   ]
  },
  {
   "cell_type": "code",
   "execution_count": null,
   "metadata": {
    "dc": {
     "key": "53"
    },
    "hide": true,
    "tags": [
     "tests"
    ]
   },
   "outputs": [],
   "source": [
    "p <- last_plot()\n",
    "\n",
    "run_tests({\n",
    "    test_that(\"The plot is correct.\", {\n",
    "        expect_equal(p$data, augment(win_mod),\n",
    "                    info = \"Make sure you called ggplot() on the augment()-ed win_mod.\")\n",
    "        expect_equal(p$mapping, aes(.fitted, .resid),\n",
    "                    info = \"Make sure you mapped .fitted to the x aesthetic and .resid to the y aesthetic.\")\n",
    "        expect_equal(p$layers, list(geom_point(), geom_hline(yintercept = 0)),\n",
    "                    info = \"Make sure you used geom_point() and geom_hline() to make your plot.\")\n",
    "    })\n",
    "})"
   ]
  },
  {
   "cell_type": "markdown",
   "metadata": {
    "dc": {
     "key": "60"
    },
    "deletable": false,
    "editable": false,
    "run_control": {
     "frozen": true
    },
    "tags": [
     "context"
    ]
   },
   "source": [
    "## 9. Fit a logistic regression model of chocolate\n",
    "<p><img src=\"https://assets.datacamp.com/production/project_458/img/chocolate.jpg\" style=\"float: left;margin:5px 20px 5px 1px;max-width: 33%\"></p>\n",
    "<p>Now let's try out logistic regression! We'll be trying to predict if a candy is chocolaty or not based on all the other features in the dataset. </p>\n",
    "<p>A logistic regression is a great choice for this particular modeling task because the variable we're trying to predict is either <code>TRUE</code> or <code>FALSE</code>. The logistic regression model will output a probability that we can use to make our decision. </p>\n",
    "<p>This model outputs a warning because a few of the features (like <code>crispedricewafer</code>) are only ever true when a candy is chocolate. This means that we cannot draw conclusions from the coefficients, but we can still use the model to make predictions!</p>"
   ]
  },
  {
   "cell_type": "code",
   "execution_count": null,
   "metadata": {
    "dc": {
     "key": "60"
    },
    "tags": [
     "sample_code"
    ]
   },
   "outputs": [],
   "source": [
    "# Fit a glm() of chocolate\n",
    "choc_mod <- glm(chocolate ~ . - competitorname, family = \"binomial\", data = candy_rankings)"
   ]
  },
  {
   "cell_type": "code",
   "execution_count": null,
   "metadata": {
    "dc": {
     "key": "60"
    },
    "hide": true,
    "tags": [
     "tests"
    ]
   },
   "outputs": [],
   "source": [
    "good_mod <- glm(chocolate ~ . - competitorname, family = \"binomial\", data = candy_rankings)\n",
    "\n",
    "run_tests({\n",
    "    test_that(\"the model is correct.\", {\n",
    "        expect_equal(good_mod$fitted.values, choc_mod$fitted.values,\n",
    "                        info = \"Make sure you fit your logistic regression correctly.\")\n",
    "    })\n",
    "})"
   ]
  },
  {
   "cell_type": "markdown",
   "metadata": {
    "dc": {
     "key": "67"
    },
    "deletable": false,
    "editable": false,
    "run_control": {
     "frozen": true
    },
    "tags": [
     "context"
    ]
   },
   "source": [
    "## 10. Evaluate the logistic regression model\n",
    "<p>Let's take our logistic regression model out for a spin! We'll start by creating a data frame of predictions we can compare to the actual values. Then we'll evaluate the model by making a confusion matrix and calculating the accuracy.</p>\n",
    "<p>Looking at the summary, it looks like most of the coefficients aren't statistically significant. In this case, that's okay because we're not trying to draw any conclusions about the relationships between the predictor variables and the response. We're only trying to make accurate predictions and, taking a look at our confusion matrix, it seems like we did a pretty good job!</p>"
   ]
  },
  {
   "cell_type": "code",
   "execution_count": null,
   "metadata": {
    "dc": {
     "key": "67"
    },
    "tags": [
     "sample_code"
    ]
   },
   "outputs": [],
   "source": [
    "# Print the summary\n",
    "summary(choc_mod)\n",
    "\n",
    "# Make a data frame of predictions\n",
    "preds <- augment(choc_mod, type.predict = \"response\") %>% \n",
    "  mutate(prediction = .fitted > .5)\n",
    "\n",
    "# Create the confusion matrix\n",
    "conf_mat <- preds %>%\n",
    "  select(chocolate, prediction) %>% \n",
    "  table()\n",
    "\n",
    "# Calculate the accuracy\n",
    "accuracy <- sum(diag(conf_mat))/sum(conf_mat)\n",
    "accuracy"
   ]
  },
  {
   "cell_type": "code",
   "execution_count": null,
   "metadata": {
    "dc": {
     "key": "67"
    },
    "hide": true,
    "tags": [
     "tests"
    ]
   },
   "outputs": [],
   "source": [
    "run_tests({\n",
    "    test_that(\"The predictions are correct.\", {\n",
    "        expect_equal(augment(choc_mod, type.predict = \"response\") %>% mutate(prediction = .fitted > .5), preds,\n",
    "                        info = \"Make sure you created your predictions correctly.\")\n",
    "    })\n",
    "    test_that(\"The confusion matrix is correct.\", {\n",
    "        expect_equivalent(preds %>% select(chocolate, prediction) %>% table(), conf_mat,\n",
    "                        info = \"Make sure you created the cofusion matrix correctly.\")\n",
    "    })\n",
    "    test_that(\"The accuracy is correct.\", {\n",
    "        expect_equal(sum(diag(conf_mat))/sum(conf_mat), accuracy,\n",
    "                        info = \"Make sure you calculated the accuracy correctly.\")\n",
    "    })\n",
    "})"
   ]
  },
  {
   "cell_type": "code",
   "execution_count": null,
   "metadata": {
    "dc": {
     "key": "4"
    },
    "hide": true,
    "tags": [
     "tests"
    ]
   },
   "outputs": [],
   "source": [
    "glimpse_result <- .Last.value\n",
    "\n",
    "\n",
    "# These packages need to be loaded in the first @tests cell. \n",
    "library(testthat) \n",
    "library(IRkernel.testthat)\n",
    "\n",
    "run_tests({\n",
    "    test_that(\"Packages are loaded.\", {\n",
    "        expect_true(\"dplyr\" %in% .packages(),\n",
    "                   info = \"Make sure you loaded dplyr.\")\n",
    "        expect_true(\"tidyr\" %in% .packages(),\n",
    "                   info = \"Make sure you loaded tidyr.\")\n",
    "        expect_true(\"broom\"  %in% .packages(),\n",
    "                   info = \"Make sure you loaded broom.\")\n",
    "        expect_true(\"corrplot\" %in% .packages(),\n",
    "                   info = \"Make sure you loaded corrplot.\")\n",
    "        expect_true(\"fivethirtyeight\" %in% .packages(),\n",
    "                   info = \"Make sure you loaded fivethirtyeight.\")\n",
    "    })\n",
    "    test_that(\"Data is loaded.\", {\n",
    "        expect_equal(.GlobalEnv$candy_rankings, fivethirtyeight::candy_rankings,\n",
    "                        info = \"Did you call data(candy_rankings)?\")\n",
    "    })\n",
    "    test_that(\"glimpse() was called\", {\n",
    "        expect_equal(candy_rankings, glimpse_result,\n",
    "                    info = \"Make sure you took a look at candy_rankings with glimpse().\")\n",
    "    })\n",
    "})\n"
   ]
  },
  {
   "cell_type": "code",
   "execution_count": null,
   "metadata": {
    "dc": {
     "key": "11"
    },
    "hide": true,
    "tags": [
     "tests"
    ]
   },
   "outputs": [],
   "source": [
    "p <- last_plot()\n",
    "\n",
    "run_tests({\n",
    "    test_that(\"`candy_rankings_long` is correct\", {\n",
    "        expect_equal(candy_rankings_long, gather(candy_rankings, \"feature\", \"value\", chocolate:pluribus),\n",
    "                        info = \"Make sure you created candy_features_long by gathering the correct columns.\")\n",
    "    })\n",
    "    test_that(\"The plot was created correctly\", {\n",
    "        expect_equal(p$data, candy_rankings_long,\n",
    "                        info = \"Make sure you passed candy_rankings_long as the data argument to ggplot().\")\n",
    "        expect_equal(p$mapping, aes(value),\n",
    "                    info = \"Did you map the value column to the x aesthetic?\")\n",
    "        expect_equal(p$layers, list(geom_bar()),\n",
    "                    info = \"Did you call geom_bar() to create a bar chart?\")\n",
    "        expect_equal(p$facet, facet_wrap(~feature),\n",
    "                    info = \"Did you create facet for each feature?\")\n",
    "    })\n",
    "})"
   ]
  }
 ],
 "metadata": {
  "kernelspec": {
   "display_name": "R",
   "language": "R",
   "name": "ir"
  },
  "language_info": {
   "codemirror_mode": "r",
   "file_extension": ".r",
   "mimetype": "text/x-r-source",
   "name": "R",
   "pygments_lexer": "r",
   "version": "4.1.2"
  }
 },
 "nbformat": 4,
 "nbformat_minor": 2
}
